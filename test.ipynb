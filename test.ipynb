{
 "cells": [
  {
   "cell_type": "code",
   "execution_count": null,
   "metadata": {},
   "outputs": [],
   "source": [
    "!pip install anthropic python-dotenv httpx"
   ]
  },
  {
   "cell_type": "code",
   "execution_count": 3,
   "metadata": {},
   "outputs": [
    {
     "data": {
      "text/plain": [
       "True"
      ]
     },
     "execution_count": 3,
     "metadata": {},
     "output_type": "execute_result"
    }
   ],
   "source": [
    "from dotenv import load_dotenv\n",
    "import os\n",
    "import requests\n",
    "import json\n",
    "import httpx\n",
    "load_dotenv()\n"
   ]
  },
  {
   "cell_type": "code",
   "execution_count": 7,
   "metadata": {},
   "outputs": [],
   "source": [
    "\n",
    "url = \"https://api.anthropic.com/v1/messages\"\n",
    "headers = {\n",
    "    \"x-api-key\": os.environ.get(\"ANTHROPIC_API_KEY\"),\n",
    "    \"Content-Type\": \"application/json\",\n",
    "    \"anthropic-version\": \"2023-06-01\"\n",
    "}\n",
    "data = {\n",
    "    \"stream\": True,\n",
    "    \"model\": \"claude-3-5-sonnet-20240620\",\n",
    "    \"max_tokens\": 1000,\n",
    "    \"temperature\": 0,\n",
    "    \"system\": \"You are a world-class poet. Respond only with short 2 word poems.\",\n",
    "    \"messages\": [\n",
    "        {\n",
    "            \"role\": \"user\",\n",
    "            \"content\": \"Why is the ocean salty?\"\n",
    "        }\n",
    "    ]\n",
    "}\n",
    "\n",
    "# response = requests.post(url, headers=headers, data=json.dumps(data))\n",
    "# print(response.json())"
   ]
  },
  {
   "cell_type": "code",
   "execution_count": 14,
   "metadata": {},
   "outputs": [
    {
     "name": "stdout",
     "output_type": "stream",
     "text": [
      "Time to first chunk: 1.09 seconds\n",
      "event: message_start\n",
      "data: {\"type\":\"message_start\",\"message\":{\"id\":\"msg_0126SuSrGLm91cC3jASVdZKT\",\"type\":\"message\",\"role\":\"assistant\",\"model\":\"claude-3-5-sonnet-20240620\",\"content\":[],\"stop_reason\":null,\"stop_sequence\":null,\"usage\":{\"input_tokens\":33,\"output_tokens\":1}}}\n",
      "\n",
      "event: content_block_start\n",
      "data: {\"type\":\"content_block_start\",\"index\":0,\"content_block\":{\"type\":\"text\",\"text\":\"\"}     }\n",
      "\n",
      "event: ping\n",
      "data: {\"type\": \"ping\"}\n",
      "\n",
      "event: content_block_delta\n",
      "data: {\"type\":\"content_block_delta\",\"index\":0,\"delta\":{\"type\":\"text_delta\",\"text\":\"Tears\"}        }\n",
      "\n",
      "event: content_block_delta\n",
      "data: {\"type\":\"content_block_delta\",\"index\":0,\"delta\":{\"type\":\"text_delta\",\"text\":\" flow\"}  }\n",
      "\n",
      "event: content_block_delta\n",
      "data: {\"type\":\"content_block_delta\",\"index\":0,\"delta\":{\"type\":\"text_delta\",\"text\":\"\\nB\"}    }\n",
      "\n",
      "event: content_block_delta\n",
      "data: {\"type\":\"content_block_delta\",\"index\":0,\"delta\":{\"type\":\"text_delta\",\"text\":\"rine\"}             }\n",
      "\n",
      "event: content_block_delta\n",
      "data: {\"type\":\"content_block_delta\",\"index\":0,\"delta\":{\"type\":\"text_delta\",\"text\":\" grows\"}}\n",
      "\n",
      "event: content_block_stop\n",
      "data: {\"type\":\"content_block_stop\",\"index\":0     }\n",
      "\n",
      "event: message_delta\n",
      "data: {\"type\":\"message_delta\",\"delta\":{\"stop_reason\":\"end_turn\",\"stop_sequence\":null},\"usage\":{\"output_tokens\":10}           }\n",
      "\n",
      "event: message_stop\n",
      "data: {\"type\":\"message_stop\"  }\n",
      "\n"
     ]
    }
   ],
   "source": [
    "import time\n",
    "\n",
    "response = None\n",
    "start_time = time.time()  # Start timing before the request\n",
    "\n",
    "try:\n",
    "    response = httpx.stream(\"POST\", url=url, headers=headers, data=json.dumps(data))\n",
    "    first_chunk_received = False\n",
    "\n",
    "    for line in response.__enter__().iter_lines():\n",
    "        if not first_chunk_received:\n",
    "            first_chunk_received = True\n",
    "            elapsed_time = time.time() - start_time\n",
    "            print(f\"Time to first chunk: {elapsed_time:.2f} seconds\")\n",
    "        print(line)\n",
    "                \n",
    "except Exception as e:\n",
    "    print(f\"An error occurred: {e}\")\n",
    "    \n",
    "finally:\n",
    "    if response:\n",
    "        response.__exit__(None, None, None)"
   ]
  }
 ],
 "metadata": {
  "kernelspec": {
   "display_name": ".venv",
   "language": "python",
   "name": "python3"
  },
  "language_info": {
   "codemirror_mode": {
    "name": "ipython",
    "version": 3
   },
   "file_extension": ".py",
   "mimetype": "text/x-python",
   "name": "python",
   "nbconvert_exporter": "python",
   "pygments_lexer": "ipython3",
   "version": "3.12.3"
  }
 },
 "nbformat": 4,
 "nbformat_minor": 2
}
